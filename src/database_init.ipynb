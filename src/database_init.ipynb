{
 "cells": [
  {
   "cell_type": "code",
   "execution_count": 1,
   "metadata": {},
   "outputs": [],
   "source": [
    "from sqlalchemy import create_engine, func\n",
    "from sqlalchemy.orm import sessionmaker\n",
    "from models import Base\n",
    "from utils.general import generate_uppercase_alphabets\n",
    "from utils.create import add_well_type_to_plate_type, add_lib_well_to_plate, add_xtal_wells_to_plate, transfer_xtal_to_pin\n",
    "from utils.read import get_xtal_well\n",
    "\n",
    "engine = create_engine(\"sqlite:///../test/test2.db\")\n",
    "Session = sessionmaker(bind=engine)\n",
    "session = Session()\n",
    "\n",
    "Base.metadata.create_all(engine)"
   ]
  },
  {
   "cell_type": "code",
   "execution_count": 2,
   "metadata": {},
   "outputs": [],
   "source": [
    "from models import (\n",
    "    Base,\n",
    "    Project,\n",
    "    LibraryPlateType,\n",
    "    LibraryWellType,\n",
    "    LibraryPlate,\n",
    "    LibraryWell,\n",
    "    XtalPlate,\n",
    "    XtalPlateType,\n",
    "    XtalWellType,\n",
    "    XtalWell,\n",
    "    WellMap,\n",
    "    Batch,\n",
    "    DropPosition,\n",
    "    EchoTransfer,\n",
    "    XrayStatusEnum,\n",
    "    PuckType,\n",
    "    Puck,\n",
    "    Pin,\n",
    ")\n",
    "import pandas\n",
    "from sqlalchemy.exc import NoResultFound"
   ]
  },
  {
   "cell_type": "code",
   "execution_count": 3,
   "metadata": {},
   "outputs": [],
   "source": [
    "project = Project(target=\"mpro\", year=2023, cycle=2, visit=1)\n",
    "session.add(project)\n",
    "lib_plate_type = LibraryPlateType(name=\"1536LDV\", rows=32, columns=48)\n",
    "session.add(lib_plate_type)"
   ]
  },
  {
   "cell_type": "code",
   "execution_count": 4,
   "metadata": {},
   "outputs": [],
   "source": [
    "a_to_af = generate_uppercase_alphabets(32)\n",
    "lib_well_type_names = [\n",
    "        {\"name\": f\"{i}{str(j).zfill(2)}\"} for i in a_to_af for j in range(1, 49)\n",
    "    ]\n",
    "add_well_type_to_plate_type(session, lib_well_type_names, lib_plate_type)\n",
    "\n",
    "lib_plate = LibraryPlate(library_plate_type=lib_plate_type, name=\"DSI-poised\")\n",
    "session.add_all([lib_plate_type, lib_plate])"
   ]
  },
  {
   "cell_type": "code",
   "execution_count": 5,
   "metadata": {},
   "outputs": [
    {
     "data": {
      "text/plain": [
       "1536"
      ]
     },
     "execution_count": 5,
     "metadata": {},
     "output_type": "execute_result"
    }
   ],
   "source": [
    "len(lib_plate_type.well_types)"
   ]
  },
  {
   "cell_type": "code",
   "execution_count": 6,
   "metadata": {},
   "outputs": [],
   "source": [
    "df = pandas.read_csv(\"../test/dsip.csv\")\n",
    "add_lib_well_to_plate(session, df, lib_plate)"
   ]
  },
  {
   "cell_type": "code",
   "execution_count": 7,
   "metadata": {},
   "outputs": [],
   "source": [
    "xtal_plate_type = XtalPlateType(name=\"SwissCI-MRC-2d\")\n",
    "session.add(xtal_plate_type)\n",
    "a_to_h = generate_uppercase_alphabets(8)\n",
    "a_to_p = generate_uppercase_alphabets(16)\n",
    "echo = [f\"{i}{j}\" for i in a_to_p for j in range(1, 17)]\n",
    "shifter = [f\"{i}{k}{j}\" for i in a_to_h for j in [\"a\", \"b\"] for k in range(1, 13)]\n",
    "\n",
    "plate_maps = [{\"echo\": i, \"shifter\": j} for i, j in zip(echo, shifter)]\n",
    "\n",
    "for plate_map in plate_maps:\n",
    "    x_offset = 0\n",
    "    if plate_map[\"shifter\"][-1] == \"b\":\n",
    "        y_offset = 1350  # microns\n",
    "    else:\n",
    "        y_offset = 0\n",
    "    well_map = WellMap(well_pos_x=x_offset, well_pos_y=y_offset, **plate_map)\n",
    "    session.add(well_map)\n",
    "    xtal_well_type = XtalWellType(name=plate_map[\"shifter\"], well_map=well_map)\n",
    "    session.add(xtal_well_type)\n",
    "\n",
    "imaging_df = pandas.read_csv(\"../test/imaging.csv\", skiprows=8)\n",
    "# shifter app leaves semi-colons in front of all header text, fix that\n",
    "# add some light spreadsheet validation (unique plate_ids)\n",
    "imaging_df.rename(columns={\";PlateType\": \"PlateType\"}, inplace=True)\n",
    "unique_plate_ids = imaging_df[\"PlateID\"].unique()\n",
    "if len(unique_plate_ids) != 1:\n",
    "    raise ValueError(\"inconsistent plateIDs; plateIDs should all be the same\")\n",
    "\n",
    "xtal_plate = XtalPlate(plate_type=xtal_plate_type, name=unique_plate_ids[0])\n",
    "session.add(xtal_plate)"
   ]
  },
  {
   "cell_type": "code",
   "execution_count": 8,
   "metadata": {},
   "outputs": [],
   "source": [
    "drop_position_codes = [\n",
    "    {\"name\": \"ul\", \"x_offset\": -300, \"y_offset\": 300},\n",
    "    {\"name\": \"lu\", \"x_offset\": -300, \"y_offset\": 300},\n",
    "    {\"name\": \"u\", \"x_offset\": 0, \"y_offset\": 300},\n",
    "    {\"name\": \"ru\", \"x_offset\": 300, \"y_offset\": 300},\n",
    "    {\"name\": \"ur\", \"x_offset\": 300, \"y_offset\": 300},\n",
    "    {\"name\": \"l\", \"x_offset\": -300, \"y_offset\": 0},\n",
    "    {\"name\": \"c\", \"x_offset\": 0, \"y_offset\": 0},\n",
    "    {\"name\": \"r\", \"x_offset\": 300, \"y_offset\": 0},\n",
    "    {\"name\": \"dl\", \"x_offset\": -300, \"y_offset\": -300},\n",
    "    {\"name\": \"ld\", \"x_offset\": -300, \"y_offset\": -300},\n",
    "    {\"name\": \"dr\", \"x_offset\": 300, \"y_offset\": -300},\n",
    "    {\"name\": \"rd\", \"x_offset\": 300, \"y_offset\": -300},\n",
    "    {\"name\": \"d\", \"x_offset\": -300, \"y_offset\": 0},\n",
    "]\n",
    "\n",
    "session.add_all(\n",
    "    [\n",
    "        DropPosition(**drop_position_code)\n",
    "        for drop_position_code in drop_position_codes\n",
    "    ]\n",
    ")\n",
    "\n",
    "add_xtal_wells_to_plate(session, imaging_df, xtal_plate)"
   ]
  },
  {
   "cell_type": "code",
   "execution_count": 9,
   "metadata": {},
   "outputs": [],
   "source": [
    "# create a batch\n",
    "batch = Batch()\n",
    "session.add(batch)\n",
    "# populate transfers\n",
    "# need to ensure that we go row by row through xtal plate, column\n",
    "# by column through library plate to minimize xy motions during transfer\n",
    "# added sequence column to well tables to enforce this ordering\n",
    "xtal_well_query = (\n",
    "    session.query(XtalWell)\n",
    "    .order_by(XtalWell.sequence)\n",
    "    .filter(XtalWell.plate.has(name=\"pmtest\"))\n",
    ")\n",
    "\n",
    "library_well_query = (\n",
    "    session.query(LibraryWell)\n",
    "    .order_by(LibraryWell.sequence)\n",
    "    .filter(LibraryWell.plate.has(name=\"DSI-poised\"))\n",
    ")\n",
    "for xtal_well, library_well in zip(xtal_well_query, library_well_query):\n",
    "    transfer = EchoTransfer(\n",
    "        batch=batch, from_well=library_well, to_well=xtal_well, transfer_volume=25\n",
    "    )\n",
    "    session.add(transfer)"
   ]
  },
  {
   "cell_type": "code",
   "execution_count": 10,
   "metadata": {},
   "outputs": [],
   "source": [
    "# prepare to ingest shifter harvesting csv\n",
    "# make sure there are pucks (and puck_types)\n",
    "puck_names = [{\"name\": name} for name in [\"testpuck\", \"FGZ001\", \"FGZ002\"]]\n",
    "session.add_all([PuckType(**puck_name) for puck_name in puck_names])\n",
    "\n",
    "harvesting_df = pandas.read_csv(\"../test/harvesting.csv\", skiprows=8)\n",
    "harvesting_df.rename(columns={\";PlateType\": \"PlateType\"}, inplace=True)\n",
    "\n",
    "puck_types = [\n",
    "    {\"puck_type\": session.query(PuckType).filter_by(name=k).one()}\n",
    "    for k in harvesting_df[\"DestinationName\"].dropna().unique()\n",
    "]\n",
    "pucks = [Puck(**puck_type) for puck_type in puck_types]\n",
    "session.add_all(pucks)\n"
   ]
  },
  {
   "cell_type": "code",
   "execution_count": 11,
   "metadata": {},
   "outputs": [
    {
     "ename": "NoResultFound",
     "evalue": "No row was found when one was required",
     "output_type": "error",
     "traceback": [
      "\u001b[0;31m---------------------------------------------------------------------------\u001b[0m",
      "\u001b[0;31mNoResultFound\u001b[0m                             Traceback (most recent call last)",
      "\u001b[1;32m/Users/vshekar/Code/platemate/src/database_init.ipynb Cell 11\u001b[0m in \u001b[0;36m<cell line: 1>\u001b[0;34m()\u001b[0m\n\u001b[1;32m      <a href='vscode-notebook-cell:/Users/vshekar/Code/platemate/src/database_init.ipynb#X13sZmlsZQ%3D%3D?line=3'>4</a>\u001b[0m \u001b[39mif\u001b[39;00m pandas\u001b[39m.\u001b[39mnotna(row[\u001b[39m\"\u001b[39m\u001b[39mComment\u001b[39m\u001b[39m\"\u001b[39m]):\n\u001b[1;32m      <a href='vscode-notebook-cell:/Users/vshekar/Code/platemate/src/database_init.ipynb#X13sZmlsZQ%3D%3D?line=4'>5</a>\u001b[0m     shifter_well_pos \u001b[39m=\u001b[39m (\n\u001b[1;32m      <a href='vscode-notebook-cell:/Users/vshekar/Code/platemate/src/database_init.ipynb#X13sZmlsZQ%3D%3D?line=5'>6</a>\u001b[0m         \u001b[39mf\u001b[39m\u001b[39m\"\u001b[39m\u001b[39m{\u001b[39;00mrow[\u001b[39m'\u001b[39m\u001b[39mPlateRow\u001b[39m\u001b[39m'\u001b[39m]\u001b[39m}\u001b[39;00m\u001b[39m{\u001b[39;00mrow[\u001b[39m'\u001b[39m\u001b[39mPlateColumn\u001b[39m\u001b[39m'\u001b[39m]\u001b[39m}\u001b[39;00m\u001b[39m{\u001b[39;00mrow[\u001b[39m'\u001b[39m\u001b[39mPositionSubWell\u001b[39m\u001b[39m'\u001b[39m]\u001b[39m}\u001b[39;00m\u001b[39m\"\u001b[39m\n\u001b[1;32m      <a href='vscode-notebook-cell:/Users/vshekar/Code/platemate/src/database_init.ipynb#X13sZmlsZQ%3D%3D?line=6'>7</a>\u001b[0m     )\n\u001b[0;32m----> <a href='vscode-notebook-cell:/Users/vshekar/Code/platemate/src/database_init.ipynb#X13sZmlsZQ%3D%3D?line=7'>8</a>\u001b[0m     xtal_well \u001b[39m=\u001b[39m get_xtal_well(session, row[\u001b[39m\"\u001b[39;49m\u001b[39mPlateID\u001b[39;49m\u001b[39m\"\u001b[39;49m], shifter_well_pos)\n\u001b[1;32m      <a href='vscode-notebook-cell:/Users/vshekar/Code/platemate/src/database_init.ipynb#X13sZmlsZQ%3D%3D?line=8'>9</a>\u001b[0m     xtal_well\u001b[39m.\u001b[39mharvest_comment \u001b[39m=\u001b[39m row[\u001b[39m\"\u001b[39m\u001b[39mComment\u001b[39m\u001b[39m\"\u001b[39m]\n\u001b[1;32m     <a href='vscode-notebook-cell:/Users/vshekar/Code/platemate/src/database_init.ipynb#X13sZmlsZQ%3D%3D?line=9'>10</a>\u001b[0m     xtal_well\u001b[39m.\u001b[39mharvesting_status \u001b[39m=\u001b[39m \u001b[39mTrue\u001b[39;00m\n",
      "File \u001b[0;32m~/Code/platemate/src/utils/read.py:30\u001b[0m, in \u001b[0;36mget_xtal_well\u001b[0;34m(session, plate_name, shifter_well_pos)\u001b[0m\n\u001b[1;32m     23\u001b[0m \u001b[39mdef\u001b[39;00m \u001b[39mget_xtal_well\u001b[39m(session: Session, plate_name: \u001b[39mstr\u001b[39m, shifter_well_pos: \u001b[39mstr\u001b[39m) \u001b[39m-\u001b[39m\u001b[39m>\u001b[39m XtalWell:\n\u001b[1;32m     24\u001b[0m     \u001b[39mreturn\u001b[39;00m (\n\u001b[1;32m     25\u001b[0m         session\u001b[39m.\u001b[39;49mquery(XtalWell)\n\u001b[1;32m     26\u001b[0m         \u001b[39m.\u001b[39;49mfilter(\n\u001b[1;32m     27\u001b[0m             XtalWell\u001b[39m.\u001b[39;49mplate\u001b[39m.\u001b[39;49mhas(name\u001b[39m=\u001b[39;49mplate_name),\n\u001b[1;32m     28\u001b[0m             XtalWell\u001b[39m.\u001b[39;49mwell_type\u001b[39m.\u001b[39;49mhas(name\u001b[39m=\u001b[39;49mshifter_well_pos),\n\u001b[1;32m     29\u001b[0m         )\n\u001b[0;32m---> 30\u001b[0m         \u001b[39m.\u001b[39;49mone()\n\u001b[1;32m     31\u001b[0m     )\n",
      "File \u001b[0;32m~/opt/anaconda3/envs/lsdc/lib/python3.10/site-packages/sqlalchemy/orm/query.py:2797\u001b[0m, in \u001b[0;36mQuery.one\u001b[0;34m(self)\u001b[0m\n\u001b[1;32m   2775\u001b[0m \u001b[39mdef\u001b[39;00m \u001b[39mone\u001b[39m(\u001b[39mself\u001b[39m) \u001b[39m-\u001b[39m\u001b[39m>\u001b[39m _T:\n\u001b[1;32m   2776\u001b[0m     \u001b[39m\"\"\"Return exactly one result or raise an exception.\u001b[39;00m\n\u001b[1;32m   2777\u001b[0m \n\u001b[1;32m   2778\u001b[0m \u001b[39m    Raises ``sqlalchemy.orm.exc.NoResultFound`` if the query selects\u001b[39;00m\n\u001b[0;32m   (...)\u001b[0m\n\u001b[1;32m   2795\u001b[0m \n\u001b[1;32m   2796\u001b[0m \u001b[39m    \"\"\"\u001b[39;00m\n\u001b[0;32m-> 2797\u001b[0m     \u001b[39mreturn\u001b[39;00m \u001b[39mself\u001b[39;49m\u001b[39m.\u001b[39;49m_iter()\u001b[39m.\u001b[39;49mone()\n",
      "File \u001b[0;32m~/opt/anaconda3/envs/lsdc/lib/python3.10/site-packages/sqlalchemy/engine/result.py:1827\u001b[0m, in \u001b[0;36mScalarResult.one\u001b[0;34m(self)\u001b[0m\n\u001b[1;32m   1819\u001b[0m \u001b[39mdef\u001b[39;00m \u001b[39mone\u001b[39m(\u001b[39mself\u001b[39m) \u001b[39m-\u001b[39m\u001b[39m>\u001b[39m _R:\n\u001b[1;32m   1820\u001b[0m     \u001b[39m\"\"\"Return exactly one object or raise an exception.\u001b[39;00m\n\u001b[1;32m   1821\u001b[0m \n\u001b[1;32m   1822\u001b[0m \u001b[39m    Equivalent to :meth:`_engine.Result.one` except that\u001b[39;00m\n\u001b[0;32m   (...)\u001b[0m\n\u001b[1;32m   1825\u001b[0m \n\u001b[1;32m   1826\u001b[0m \u001b[39m    \"\"\"\u001b[39;00m\n\u001b[0;32m-> 1827\u001b[0m     \u001b[39mreturn\u001b[39;00m \u001b[39mself\u001b[39;49m\u001b[39m.\u001b[39;49m_only_one_row(\n\u001b[1;32m   1828\u001b[0m         raise_for_second_row\u001b[39m=\u001b[39;49m\u001b[39mTrue\u001b[39;49;00m, raise_for_none\u001b[39m=\u001b[39;49m\u001b[39mTrue\u001b[39;49;00m, scalar\u001b[39m=\u001b[39;49m\u001b[39mFalse\u001b[39;49;00m\n\u001b[1;32m   1829\u001b[0m     )\n",
      "File \u001b[0;32m~/opt/anaconda3/envs/lsdc/lib/python3.10/site-packages/sqlalchemy/engine/result.py:760\u001b[0m, in \u001b[0;36mResultInternal._only_one_row\u001b[0;34m(self, raise_for_second_row, raise_for_none, scalar)\u001b[0m\n\u001b[1;32m    758\u001b[0m \u001b[39mif\u001b[39;00m row \u001b[39mis\u001b[39;00m \u001b[39mNone\u001b[39;00m:\n\u001b[1;32m    759\u001b[0m     \u001b[39mif\u001b[39;00m raise_for_none:\n\u001b[0;32m--> 760\u001b[0m         \u001b[39mraise\u001b[39;00m exc\u001b[39m.\u001b[39mNoResultFound(\n\u001b[1;32m    761\u001b[0m             \u001b[39m\"\u001b[39m\u001b[39mNo row was found when one was required\u001b[39m\u001b[39m\"\u001b[39m\n\u001b[1;32m    762\u001b[0m         )\n\u001b[1;32m    763\u001b[0m     \u001b[39melse\u001b[39;00m:\n\u001b[1;32m    764\u001b[0m         \u001b[39mreturn\u001b[39;00m \u001b[39mNone\u001b[39;00m\n",
      "\u001b[0;31mNoResultFound\u001b[0m: No row was found when one was required"
     ]
    }
   ],
   "source": [
    "for index, row in harvesting_df.iterrows():\n",
    "    # this entry will be populated if something happened at the well,\n",
    "    # successful or not\n",
    "    if pandas.notna(row[\"Comment\"]):\n",
    "        shifter_well_pos = (\n",
    "            f\"{row['PlateRow']}{row['PlateColumn']}{row['PositionSubWell']}\"\n",
    "        )\n",
    "        xtal_well = get_xtal_well(session, row[\"PlateID\"], shifter_well_pos)\n",
    "        xtal_well.harvest_comment = row[\"Comment\"]\n",
    "        xtal_well.harvesting_status = True\n",
    "        xtal_well.time_arrival = pandas.to_datetime(\n",
    "            row[\"TimeArrival\"], format=\"%d/%m/%Y %H:%M:%S\"\n",
    "        )\n",
    "        echo_transfer = (\n",
    "            session.query(EchoTransfer)\n",
    "            .filter(EchoTransfer.to_well_id == xtal_well.uid)\n",
    "            .one()\n",
    "        )\n",
    "        library_well = echo_transfer.from_well\n",
    "        library_well.used = True\n",
    "\n",
    "        # this entry will only be populated if the pin made it into the puck\n",
    "        if pandas.notna(row[\"DestinationLocation\"]):\n",
    "            transfer_xtal_to_pin(session, xtal_well, row[\"DestinationName\"], \n",
    "                                 row[\"DestinationLocation\"], row[\"TimeDeparture\"])"
   ]
  },
  {
   "cell_type": "code",
   "execution_count": 15,
   "metadata": {},
   "outputs": [
    {
     "data": {
      "text/plain": [
       "'H7b'"
      ]
     },
     "execution_count": 15,
     "metadata": {},
     "output_type": "execute_result"
    }
   ],
   "source": [
    "session.query(XtalWell).filter(\n",
    "            XtalWell.plate.has(name=\"pmtest\"),\n",
    "            #XtalWell.well_type.has(name=shifter_well_pos),\n",
    "        ).one().well_type.name"
   ]
  },
  {
   "cell_type": "code",
   "execution_count": 20,
   "metadata": {},
   "outputs": [
    {
     "data": {
      "text/plain": [
       "<models.xtal_plate.XtalWellType at 0x7fbb03327970>"
      ]
     },
     "execution_count": 20,
     "metadata": {},
     "output_type": "execute_result"
    }
   ],
   "source": [
    "session.query(XtalWellType).filter_by(name=\"A1a\").one()"
   ]
  },
  {
   "cell_type": "code",
   "execution_count": null,
   "metadata": {},
   "outputs": [],
   "source": []
  }
 ],
 "metadata": {
  "kernelspec": {
   "display_name": "lsdc",
   "language": "python",
   "name": "python3"
  },
  "language_info": {
   "codemirror_mode": {
    "name": "ipython",
    "version": 3
   },
   "file_extension": ".py",
   "mimetype": "text/x-python",
   "name": "python",
   "nbconvert_exporter": "python",
   "pygments_lexer": "ipython3",
   "version": "3.10.6"
  },
  "orig_nbformat": 4
 },
 "nbformat": 4,
 "nbformat_minor": 2
}
