{
   "cells": [
      {
         "cell_type": "code",
         "execution_count": 15,
         "metadata": {},
         "outputs": [],
         "source": [
            "from sqlalchemy import create_engine, func\n",
            "from sqlalchemy.orm import sessionmaker\n",
            "from models import Base\n",
            "from utils.general import generate_uppercase_alphabets\n",
            "from utils.create import add_well_type_to_plate_type, add_lib_well_to_plate, add_xtal_wells_to_plate, transfer_xtal_to_pin\n",
            "from utils.read import get_or_create, get_xtal_well\n",
            "\n",
            "engine = create_engine(\"sqlite:///../test/test.db\")\n",
            "Session = sessionmaker(bind=engine)\n",
            "session = Session()\n",
            "\n",
            "Base.metadata.create_all(engine)"
         ]
      },
      {
         "cell_type": "code",
         "execution_count": 16,
         "metadata": {},
         "outputs": [],
         "source": [
            "from models import (\n",
            "    Base,\n",
            "    Project,\n",
            "    LibraryPlateType,\n",
            "    LibraryWellType,\n",
            "    LibraryPlate,\n",
            "    LibraryWell,\n",
            "    XtalPlate,\n",
            "    XtalPlateType,\n",
            "    XtalWellType,\n",
            "    XtalWell,\n",
            "    WellMap,\n",
            "    Batch,\n",
            "    DropPosition,\n",
            "    EchoTransfer,\n",
            "    XrayStatusEnum,\n",
            "    PuckType,\n",
            "    Puck,\n",
            "    Pin,\n",
            ")\n",
            "import pandas\n",
            "from sqlalchemy.exc import NoResultFound\n",
            "DATABASE_SETUP_ONLY = True"
         ]
      },
      {
         "cell_type": "markdown",
         "metadata": {},
         "source": [
            "## Add Project"
         ]
      },
      {
         "cell_type": "code",
         "execution_count": 17,
         "metadata": {},
         "outputs": [],
         "source": [
            "project = Project(target=\"test\", year=2023, cycle=3, visit=1)\n",
            "session.add(project)"
         ]
      },
      {
         "cell_type": "markdown",
         "metadata": {},
         "source": [
            "## Add Library Plate type"
         ]
      },
      {
         "cell_type": "markdown",
         "metadata": {},
         "source": [
            "### 1536 plate"
         ]
      },
      {
         "cell_type": "code",
         "execution_count": 18,
         "metadata": {},
         "outputs": [],
         "source": [
            "LIB_PLATE_ROWS_1536 = 32\n",
            "LIB_PLATE_COLS_1536 = 48\n",
            "lib_plate_type_1536 = LibraryPlateType(name=\"1536LDV\", rows=LIB_PLATE_ROWS_1536, columns=LIB_PLATE_COLS_1536)\n",
            "session.add(lib_plate_type_1536)\n",
            "a_to_af = generate_uppercase_alphabets(LIB_PLATE_ROWS_1536)\n",
            "lib_well_type_names_1536 = [\n",
            "        {\"name\": f\"{i}{str(j).zfill(2)}\"} for i in a_to_af for j in range(1, LIB_PLATE_COLS_1536+1)\n",
            "    ]\n",
            "add_well_type_to_plate_type(session, lib_well_type_names_1536, lib_plate_type_1536)"
         ]
      },
      {
         "cell_type": "markdown",
         "metadata": {},
         "source": [
            "### Create library plate and add associate chemicals with it"
         ]
      },
      {
         "cell_type": "code",
         "execution_count": 19,
         "metadata": {},
         "outputs": [],
         "source": [
            "lib_plate_dsip = LibraryPlate(library_plate_type=lib_plate_type_1536, name=\"DSI-poised\")\n",
            "session.add(lib_plate_type_1536)\n",
            "session.add(lib_plate_dsip)\n",
            "session.commit()\n",
            "\n",
            "# Read the vendor csv and populate the library plate\n",
            "df_dsip = pandas.read_csv(\"../test/dsip.csv\")\n",
            "add_lib_well_to_plate(session, df_dsip, lib_plate_dsip)"
         ]
      },
      {
         "cell_type": "markdown",
         "metadata": {},
         "source": [
            "### 384 plate"
         ]
      },
      {
         "cell_type": "code",
         "execution_count": 20,
         "metadata": {},
         "outputs": [],
         "source": [
            "LIB_PLATE_ROWS_384 = 16\n",
            "LIB_PLATE_COLS_384 = 24\n",
            "lib_plate_type_384 = LibraryPlateType(\n",
            "    name=\"384PP\",\n",
            "    rows=LIB_PLATE_ROWS_384,\n",
            "    columns=LIB_PLATE_COLS_384\n",
            ")\n",
            "session.add(lib_plate_type_384)\n",
            "a_to_p = generate_uppercase_alphabets(LIB_PLATE_ROWS_384)\n",
            "lib_well_type_names_384 = [\n",
            "        {\"name\": f\"{i}{str(j).zfill(2)}\"} for i in a_to_p for j in range(1, LIB_PLATE_COLS_384+1)\n",
            "    ]\n",
            "add_well_type_to_plate_type(session, lib_well_type_names_384, lib_plate_type_384)"
         ]
      },
      {
         "cell_type": "markdown",
         "metadata": {},
         "source": [
            "### LifeChemicals fragment diversity set #3"
         ]
      },
      {
         "cell_type": "code",
         "execution_count": 21,
         "metadata": {},
         "outputs": [
            {
               "name": "stdout",
               "output_type": "stream",
               "text": [
                  "     catalog_id                            smiles  \\\n",
                  "0    F6675-8150     CN(CC(F)(F)F)C1CN(c2cnccn2)C1   \n",
                  "1    F6616-1270           Br.c1cc(SCC2CCOCC2)ccn1   \n",
                  "2    F6608-0984           CC(Oc1nccn(C)c1=O)C1CC1   \n",
                  "3    F6608-1013          CN1CCCC(COc2cnccc2C#N)C1   \n",
                  "4    F6541-4519          OCC1CCCN1c1ccc(C2CC2)nn1   \n",
                  "..          ...                               ...   \n",
                  "315  F1913-0560           Cl.O=C(O)C1(N2CCCC2)CC1   \n",
                  "316  F1913-0654    Cl.FC(F)(F)c1cccc(C2=CCNCC2)n1   \n",
                  "317  F2125-0006         Nc1cccc(-c2cn3cccnc3n2)c1   \n",
                  "318  F2145-0837       N#CCc1nc(-c2cc3ccccc3o2)cs1   \n",
                  "319  F2113-0652  Nc1nc2cc(C(F)(F)F)ccc2n1Cc1ccco1   \n",
                  "\n",
                  "                                         chemical_name  price_coeff  \\\n",
                  "0    N-methyl-1-(pyrazin-2-yl)-N-(2,2,2-trifluoroet...          1.5   \n",
                  "1    4-{[(oxan-4-yl)methyl]sulfanyl}pyridine hydrob...          1.0   \n",
                  "2    3-(1-cyclopropylethoxy)-1-methyl-1,2-dihydropy...          1.5   \n",
                  "3    3-[(1-methylpiperidin-3-yl)methoxy]pyridine-4-...          1.0   \n",
                  "4    [1-(6-cyclopropylpyridazin-3-yl)pyrrolidin-2-y...          1.5   \n",
                  "..                                                 ...          ...   \n",
                  "315  1-(pyrrolidin-1-yl)cyclopropane-1-carboxylic a...          1.0   \n",
                  "316  6-(trifluoromethyl)-1',2',3',6'-tetrahydro-2,4...          1.0   \n",
                  "317            3-{imidazo[1,2-a]pyrimidin-2-yl}aniline          1.0   \n",
                  "318  2-[4-(1-benzofuran-2-yl)-1,3-thiazol-2-yl]acet...          1.0   \n",
                  "319  1-[(furan-2-yl)methyl]-5-(trifluoromethyl)-1H-...          1.0   \n",
                  "\n",
                  "              cas  clogp      mw  acceptor  donor  rot_bonds well  \n",
                  "0    2380088-60-6  1.480  246.23         3      2          3  D12  \n",
                  "1    2310147-39-6  1.635  209.31         2      1          3  N04  \n",
                  "2    2202367-33-5  1.090  194.23         3      1          3  N19  \n",
                  "3    2201616-17-1  1.310  231.29         3      2          3  P19  \n",
                  "4    2097891-42-2  0.740  219.28         3      2          3  F13  \n",
                  "..            ...    ...     ...       ...    ...        ...  ...  \n",
                  "315  1450977-69-1  0.930  155.19         2      1          2  C17  \n",
                  "316  2303565-83-3  1.770  228.21         1      2          1  E17  \n",
                  "317   439108-84-6  1.350  210.23         3      1          1  C06  \n",
                  "318   851399-94-5  2.780  240.28         3      0          2  C08  \n",
                  "319   878259-07-5  2.950  281.23         2      1          2  E04  \n",
                  "\n",
                  "[320 rows x 11 columns]\n"
               ]
            }
         ],
         "source": [
            "lib_plate_fds3 = LibraryPlate(\n",
            "    library_plate_type=lib_plate_type_384,\n",
            "    name=\"lc-fds-III\"\n",
            ")\n",
            "session.add(lib_plate_fds3)\n",
            "session.commit()\n",
            "\n",
            "# Read the vendor csv and populate the library plate\n",
            "df_fds3 = pandas.read_csv(\"../test/lc-fds-III.csv\")\n",
            "print(df_fds3)\n",
            "add_lib_well_to_plate(session, df_fds3, lib_plate_fds3)"
         ]
      },
      {
         "cell_type": "markdown",
         "metadata": {},
         "source": [
            "### Solvent test plate"
         ]
      },
      {
         "cell_type": "code",
         "execution_count": 22,
         "metadata": {},
         "outputs": [],
         "source": [
            "SOLVENT_WELL=\"G07\"\n",
            "lib_plate_solvent = LibraryPlate(\n",
            "    library_plate_type=lib_plate_type_384,\n",
            "    name=f\"solvent_{SOLVENT_WELL}\"\n",
            ")\n",
            "session.add(lib_plate_solvent)\n",
            "session.commit()\n",
            "\n",
            "# single well in solvent plate\n",
            "df_solvent = pandas.DataFrame(\n",
            "    {\"catalog_id\":[\"DMSO\"],\"smiles\":[\"CS(C)=O\"],\"well\":[SOLVENT_WELL]}\n",
            ")\n",
            "\n",
            "# populate the solvent library plate\n",
            "add_lib_well_to_plate(session, df_solvent, lib_plate_solvent)"
         ]
      },
      {
         "cell_type": "markdown",
         "metadata": {},
         "source": [
            "### Create Xtal plate type and add an echo to shifter mapping to the plate type"
         ]
      },
      {
         "cell_type": "code",
         "execution_count": 23,
         "metadata": {},
         "outputs": [],
         "source": [
            "# Create and add xtal plate\n",
            "xtal_plate_type = XtalPlateType(name=\"SwissCI-MRC-2d\")\n",
            "session.add(xtal_plate_type)\n",
            "\n",
            "# Create lists that map echo wells to shifter wells \n",
            "a_to_h = generate_uppercase_alphabets(8)\n",
            "a_to_p = generate_uppercase_alphabets(16)\n",
            "echo = [f\"{i}{j}\" for i in a_to_p for j in range(1, 13)]\n",
            "shifter = [f\"{i}{k}{j}\" for i in a_to_h for j in [\"a\", \"b\"] for k in range(1, 13)]\n",
            "plate_maps = [{\"echo\": i, \"shifter\": j} for i, j in zip(echo, shifter)]\n",
            "\n",
            "# Loop through plate map list, if the shifter well name ends with a \"b\", add a y offset\n",
            "for plate_map in plate_maps:\n",
            "    x_offset = 0\n",
            "    if plate_map[\"shifter\"][-1] == \"b\":\n",
            "        y_offset = 1350  # microns\n",
            "    else:\n",
            "        y_offset = 0\n",
            "    well_map = WellMap(well_pos_x=x_offset, well_pos_y=y_offset, **plate_map)\n",
            "    session.add(well_map)\n",
            "    xtal_well_type = XtalWellType(name=plate_map[\"shifter\"], well_map=well_map)\n",
            "    session.add(xtal_well_type)\n"
         ]
      },
      {
         "cell_type": "markdown",
         "metadata": {},
         "source": [
            "### Add drop position codes and offsets to the database"
         ]
      },
      {
         "cell_type": "code",
         "execution_count": 24,
         "metadata": {},
         "outputs": [],
         "source": [
            "drop_position_codes = [\n",
            "    {\"name\": \"ul\", \"x_offset\": -300, \"y_offset\": 300},\n",
            "    {\"name\": \"lu\", \"x_offset\": -300, \"y_offset\": 300},\n",
            "    {\"name\": \"u\", \"x_offset\": 0, \"y_offset\": 300},\n",
            "    {\"name\": \"ru\", \"x_offset\": 300, \"y_offset\": 300},\n",
            "    {\"name\": \"ur\", \"x_offset\": 300, \"y_offset\": 300},\n",
            "    {\"name\": \"l\", \"x_offset\": -300, \"y_offset\": 0},\n",
            "    {\"name\": \"c\", \"x_offset\": 0, \"y_offset\": 0},\n",
            "    {\"name\": \"r\", \"x_offset\": 300, \"y_offset\": 0},\n",
            "    {\"name\": \"dl\", \"x_offset\": -300, \"y_offset\": -300},\n",
            "    {\"name\": \"ld\", \"x_offset\": -300, \"y_offset\": -300},\n",
            "    {\"name\": \"dr\", \"x_offset\": 300, \"y_offset\": -300},\n",
            "    {\"name\": \"rd\", \"x_offset\": 300, \"y_offset\": -300},\n",
            "    {\"name\": \"d\", \"x_offset\": -300, \"y_offset\": 0},\n",
            "]\n",
            "\n",
            "session.add_all(\n",
            "    [\n",
            "        DropPosition(**drop_position_code)\n",
            "        for drop_position_code in drop_position_codes\n",
            "    ]\n",
            ")"
         ]
      },
      {
         "cell_type": "markdown",
         "metadata": {},
         "source": [
            "### The rest of the steps described here are used for reference. It shows code that populates the database during an actual experimental run. It is not part of the database setup\n",
            "\n",
            "#### Steps to add experiment info to database: \n",
            "- Use the imaging csv from the shifter to create an instance of an Xtal plate"
         ]
      },
      {
         "cell_type": "code",
         "execution_count": 25,
         "metadata": {},
         "outputs": [],
         "source": [
            "if not DATABASE_SETUP_ONLY:\n",
            "    imaging_df = pandas.read_csv(\"../test/imaging.csv\", skiprows=8)\n",
            "    # shifter app leaves semi-colons in front of all header text, fix that\n",
            "    # add some light spreadsheet validation (unique plate_ids)\n",
            "    imaging_df.rename(columns={\";PlateType\": \"PlateType\"}, inplace=True)\n",
            "    unique_plate_ids = imaging_df[\"PlateID\"].unique()\n",
            "    if len(unique_plate_ids) != 1:\n",
            "        raise ValueError(\"inconsistent plateIDs; plateIDs should all be the same\")\n",
            "\n",
            "    xtal_plate = XtalPlate(plate_type=xtal_plate_type, name=unique_plate_ids[0])\n",
            "    session.add(xtal_plate)\n",
            "    add_xtal_wells_to_plate(session, imaging_df, xtal_plate)\n",
            "\n",
            "    # create a batch\n",
            "    batch = Batch()\n",
            "    session.add(batch)\n",
            "    # populate transfers\n",
            "    # need to ensure that we go row by row through xtal plate, column\n",
            "    # by column through library plate to minimize xy motions during transfer\n",
            "    # added sequence column to well tables to enforce this ordering\n",
            "    xtal_well_query = (\n",
            "        session.query(XtalWell)\n",
            "        .order_by(XtalWell.sequence)\n",
            "        .filter(XtalWell.plate.has(name=\"pmtest\"))\n",
            "    )\n",
            "\n",
            "    library_well_query = (\n",
            "        session.query(LibraryWell)\n",
            "        .order_by(LibraryWell.sequence)\n",
            "        .filter(LibraryWell.plate.has(name=\"DSI-poised\"))\n",
            "    )\n",
            "\n",
            "    for xtal_well, library_well in zip(xtal_well_query, library_well_query):\n",
            "        transfer = EchoTransfer(\n",
            "            batch=batch, from_well=library_well, to_well=xtal_well, transfer_volume=25\n",
            "        )\n",
            "        session.add(transfer)\n",
            "\n",
            "    # prepare to ingest shifter harvesting csv\n",
            "    # make sure there are pucks (and puck_types)\n",
            "    puck_names = [{\"name\": name} for name in [\"testpuck\", \"FGZ001\", \"FGZ002\"]]\n",
            "    for puck_name in puck_names:\n",
            "        get_or_create(session, PuckType, **puck_name)\n",
            "\n",
            "    harvesting_df = pandas.read_csv(\"../test/harvesting.csv\", skiprows=8)\n",
            "    harvesting_df.rename(columns={\";PlateType\": \"PlateType\"}, inplace=True)\n",
            "\n",
            "    puck_data = [\n",
            "        {\"puck_type\": session.query(PuckType).filter_by(name=k).one()}\n",
            "        for k in harvesting_df[\"DestinationName\"].dropna().unique()\n",
            "    ]\n",
            "    for puck in puck_data:\n",
            "        get_or_create(session, Puck, **puck)\n",
            "\n",
            "    for index, row in harvesting_df.iterrows():\n",
            "        # this entry will be populated if something happened at the well,\n",
            "        # successful or not\n",
            "        if pandas.notna(row[\"Comment\"]):\n",
            "            shifter_well_pos = (\n",
            "                f\"{row['PlateRow']}{row['PlateColumn']}{row['PositionSubWell']}\"\n",
            "            )\n",
            "            xtal_well = get_xtal_well(session, row[\"PlateID\"], shifter_well_pos)\n",
            "            xtal_well.harvest_comment = row[\"Comment\"]\n",
            "            xtal_well.harvesting_status = True\n",
            "            xtal_well.time_arrival = pandas.to_datetime(\n",
            "                row[\"TimeArrival\"], format=\"%d/%m/%Y %H:%M:%S\"\n",
            "            )\n",
            "            echo_transfer = (\n",
            "                session.query(EchoTransfer)\n",
            "                .filter(EchoTransfer.to_well_id == xtal_well.uid)\n",
            "                .first()\n",
            "            )\n",
            "            if echo_transfer:\n",
            "                library_well = echo_transfer.from_well\n",
            "                library_well.used = True\n",
            "\n",
            "            # this entry will only be populated if the pin made it into the puck\n",
            "            if pandas.notna(row[\"DestinationLocation\"]):\n",
            "                transfer_xtal_to_pin(session, xtal_well, row[\"DestinationName\"], \n",
            "                                    row[\"DestinationLocation\"], row[\"TimeDeparture\"])"
         ]
      },
      {
         "cell_type": "code",
         "execution_count": null,
         "metadata": {},
         "outputs": [],
         "source": []
      },
      {
         "cell_type": "code",
         "execution_count": 26,
         "metadata": {},
         "outputs": [
            {
               "data": {
                  "text/plain": [
                     "0"
                  ]
               },
               "execution_count": 26,
               "metadata": {},
               "output_type": "execute_result"
            }
         ],
         "source": [
            "len(session.query(XtalWell).filter(\n",
            "            XtalWell.plate.has(name=\"pmtest\"),\n",
            "            #XtalWell.well_type.has(name=shifter_well_pos),\n",
            "        ).all())"
         ]
      },
      {
         "cell_type": "code",
         "execution_count": 27,
         "metadata": {},
         "outputs": [
            {
               "data": {
                  "text/plain": [
                     "<models.xtal_plate.XtalWellType at 0x7f92806dd570>"
                  ]
               },
               "execution_count": 27,
               "metadata": {},
               "output_type": "execute_result"
            }
         ],
         "source": [
            "session.query(XtalWellType).filter_by(name=\"A1a\").one()"
         ]
      },
      {
         "cell_type": "code",
         "execution_count": 28,
         "metadata": {},
         "outputs": [],
         "source": [
            "session.commit()"
         ]
      },
      {
         "cell_type": "code",
         "execution_count": null,
         "metadata": {},
         "outputs": [],
         "source": []
      }
   ],
   "metadata": {
      "kernelspec": {
         "display_name": "Python 3 (ipykernel)",
         "language": "python",
         "name": "python3"
      },
      "language_info": {
         "codemirror_mode": {
            "name": "ipython",
            "version": 3
         },
         "file_extension": ".py",
         "mimetype": "text/x-python",
         "name": "python",
         "nbconvert_exporter": "python",
         "pygments_lexer": "ipython3",
         "version": "3.10.13"
      }
   },
   "nbformat": 4,
   "nbformat_minor": 4
}