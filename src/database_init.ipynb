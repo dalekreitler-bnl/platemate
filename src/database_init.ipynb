{
 "cells": [
  {
   "cell_type": "code",
   "execution_count": 1,
   "metadata": {},
   "outputs": [],
   "source": [
    "from sqlalchemy import create_engine, func\n",
    "from sqlalchemy.orm import sessionmaker\n",
    "from models import Base\n",
    "from utils.general import generate_uppercase_alphabets\n",
    "from utils.create import add_well_type_to_plate_type, add_lib_well_to_plate, add_xtal_wells_to_plate, transfer_xtal_to_pin\n",
    "from utils.read import get_or_create, get_xtal_well\n",
    "\n",
    "engine = create_engine(\"sqlite:///../test/test2.db\")\n",
    "Session = sessionmaker(bind=engine)\n",
    "session = Session()\n",
    "\n",
    "Base.metadata.create_all(engine)"
   ]
  },
  {
   "cell_type": "code",
   "execution_count": 2,
   "metadata": {},
   "outputs": [],
   "source": [
    "from models import (\n",
    "    Base,\n",
    "    Project,\n",
    "    LibraryPlateType,\n",
    "    LibraryWellType,\n",
    "    LibraryPlate,\n",
    "    LibraryWell,\n",
    "    XtalPlate,\n",
    "    XtalPlateType,\n",
    "    XtalWellType,\n",
    "    XtalWell,\n",
    "    WellMap,\n",
    "    Batch,\n",
    "    DropPosition,\n",
    "    EchoTransfer,\n",
    "    XrayStatusEnum,\n",
    "    PuckType,\n",
    "    Puck,\n",
    "    Pin,\n",
    ")\n",
    "import pandas\n",
    "from sqlalchemy.exc import NoResultFound\n",
    "DATABASE_SETUP_ONLY = True"
   ]
  },
  {
   "cell_type": "markdown",
   "metadata": {},
   "source": [
    "## Add Project"
   ]
  },
  {
   "cell_type": "code",
   "execution_count": 3,
   "metadata": {},
   "outputs": [],
   "source": [
    "project = Project(target=\"mpro\", year=2023, cycle=2, visit=1)\n",
    "session.add(project)\n"
   ]
  },
  {
   "cell_type": "markdown",
   "metadata": {},
   "source": [
    "## Add Library Plate type"
   ]
  },
  {
   "cell_type": "code",
   "execution_count": 4,
   "metadata": {},
   "outputs": [],
   "source": [
    "LIB_PLATE_ROWS = 32\n",
    "LIB_PLATE_COLS = 48\n",
    "lib_plate_type = LibraryPlateType(name=\"1536LDV\", rows=LIB_PLATE_ROWS, columns=LIB_PLATE_COLS)\n",
    "session.add(lib_plate_type)\n",
    "a_to_af = generate_uppercase_alphabets(LIB_PLATE_ROWS)\n",
    "lib_well_type_names = [\n",
    "        {\"name\": f\"{i}{str(j).zfill(2)}\"} for i in a_to_af for j in range(1, LIB_PLATE_COLS+1)\n",
    "    ]\n",
    "add_well_type_to_plate_type(session, lib_well_type_names, lib_plate_type)\n",
    "\n"
   ]
  },
  {
   "cell_type": "markdown",
   "metadata": {},
   "source": [
    "### Create library plate and add associate chemicals with it"
   ]
  },
  {
   "cell_type": "code",
   "execution_count": 5,
   "metadata": {},
   "outputs": [],
   "source": [
    "lib_plate = LibraryPlate(library_plate_type=lib_plate_type, name=\"DSI-poised\")\n",
    "session.add_all([lib_plate_type, lib_plate])\n",
    "\n",
    "# Read the vendor csv and populate the library plate\n",
    "df = pandas.read_csv(\"../test/dsip.csv\")\n",
    "add_lib_well_to_plate(session, df, lib_plate)"
   ]
  },
  {
   "cell_type": "markdown",
   "metadata": {},
   "source": [
    "### Create Xtal plate type and add an echo to shifter mapping to the plate type"
   ]
  },
  {
   "cell_type": "code",
   "execution_count": 6,
   "metadata": {},
   "outputs": [],
   "source": [
    "# Create and add xtal plate\n",
    "xtal_plate_type = XtalPlateType(name=\"SwissCI-MRC-2d\")\n",
    "session.add(xtal_plate_type)\n",
    "\n",
    "# Create lists that map echo wells to shifter wells \n",
    "a_to_h = generate_uppercase_alphabets(8)\n",
    "a_to_p = generate_uppercase_alphabets(16)\n",
    "echo = [f\"{i}{j}\" for i in a_to_p for j in range(1, 17)]\n",
    "shifter = [f\"{i}{k}{j}\" for i in a_to_h for j in [\"a\", \"b\"] for k in range(1, 13)]\n",
    "plate_maps = [{\"echo\": i, \"shifter\": j} for i, j in zip(echo, shifter)]\n",
    "\n",
    "# Loop through plate map list, if the shifter well name ends with a \"b\", add a y offset\n",
    "for plate_map in plate_maps:\n",
    "    x_offset = 0\n",
    "    if plate_map[\"shifter\"][-1] == \"b\":\n",
    "        y_offset = 1350  # microns\n",
    "    else:\n",
    "        y_offset = 0\n",
    "    well_map = WellMap(well_pos_x=x_offset, well_pos_y=y_offset, **plate_map)\n",
    "    session.add(well_map)\n",
    "    xtal_well_type = XtalWellType(name=plate_map[\"shifter\"], well_map=well_map)\n",
    "    session.add(xtal_well_type)\n"
   ]
  },
  {
   "cell_type": "markdown",
   "metadata": {},
   "source": [
    "### Add drop position codes and offsets to the database"
   ]
  },
  {
   "cell_type": "code",
   "execution_count": 7,
   "metadata": {},
   "outputs": [],
   "source": [
    "drop_position_codes = [\n",
    "    {\"name\": \"ul\", \"x_offset\": -300, \"y_offset\": 300},\n",
    "    {\"name\": \"lu\", \"x_offset\": -300, \"y_offset\": 300},\n",
    "    {\"name\": \"u\", \"x_offset\": 0, \"y_offset\": 300},\n",
    "    {\"name\": \"ru\", \"x_offset\": 300, \"y_offset\": 300},\n",
    "    {\"name\": \"ur\", \"x_offset\": 300, \"y_offset\": 300},\n",
    "    {\"name\": \"l\", \"x_offset\": -300, \"y_offset\": 0},\n",
    "    {\"name\": \"c\", \"x_offset\": 0, \"y_offset\": 0},\n",
    "    {\"name\": \"r\", \"x_offset\": 300, \"y_offset\": 0},\n",
    "    {\"name\": \"dl\", \"x_offset\": -300, \"y_offset\": -300},\n",
    "    {\"name\": \"ld\", \"x_offset\": -300, \"y_offset\": -300},\n",
    "    {\"name\": \"dr\", \"x_offset\": 300, \"y_offset\": -300},\n",
    "    {\"name\": \"rd\", \"x_offset\": 300, \"y_offset\": -300},\n",
    "    {\"name\": \"d\", \"x_offset\": -300, \"y_offset\": 0},\n",
    "]\n",
    "\n",
    "session.add_all(\n",
    "    [\n",
    "        DropPosition(**drop_position_code)\n",
    "        for drop_position_code in drop_position_codes\n",
    "    ]\n",
    ")"
   ]
  },
  {
   "cell_type": "markdown",
   "metadata": {},
   "source": [
    "### The rest of the steps described here are used for reference. It shows code that populates the database during an actual experimental run. It is not part of the database setup\n",
    "\n",
    "#### Steps to add experiment info to database: \n",
    "- Use the imaging csv from the shifter to create an instance of an Xtal plate"
   ]
  },
  {
   "cell_type": "code",
   "execution_count": 8,
   "metadata": {},
   "outputs": [],
   "source": [
    "if not DATABASE_SETUP_ONLY:\n",
    "    imaging_df = pandas.read_csv(\"../test/imaging.csv\", skiprows=8)\n",
    "    # shifter app leaves semi-colons in front of all header text, fix that\n",
    "    # add some light spreadsheet validation (unique plate_ids)\n",
    "    imaging_df.rename(columns={\";PlateType\": \"PlateType\"}, inplace=True)\n",
    "    unique_plate_ids = imaging_df[\"PlateID\"].unique()\n",
    "    if len(unique_plate_ids) != 1:\n",
    "        raise ValueError(\"inconsistent plateIDs; plateIDs should all be the same\")\n",
    "\n",
    "    xtal_plate = XtalPlate(plate_type=xtal_plate_type, name=unique_plate_ids[0])\n",
    "    session.add(xtal_plate)\n",
    "    add_xtal_wells_to_plate(session, imaging_df, xtal_plate)\n",
    "\n",
    "    # create a batch\n",
    "    batch = Batch()\n",
    "    session.add(batch)\n",
    "    # populate transfers\n",
    "    # need to ensure that we go row by row through xtal plate, column\n",
    "    # by column through library plate to minimize xy motions during transfer\n",
    "    # added sequence column to well tables to enforce this ordering\n",
    "    xtal_well_query = (\n",
    "        session.query(XtalWell)\n",
    "        .order_by(XtalWell.sequence)\n",
    "        .filter(XtalWell.plate.has(name=\"pmtest\"))\n",
    "    )\n",
    "\n",
    "    library_well_query = (\n",
    "        session.query(LibraryWell)\n",
    "        .order_by(LibraryWell.sequence)\n",
    "        .filter(LibraryWell.plate.has(name=\"DSI-poised\"))\n",
    "    )\n",
    "\n",
    "    for xtal_well, library_well in zip(xtal_well_query, library_well_query):\n",
    "        transfer = EchoTransfer(\n",
    "            batch=batch, from_well=library_well, to_well=xtal_well, transfer_volume=25\n",
    "        )\n",
    "        session.add(transfer)\n",
    "\n",
    "    # prepare to ingest shifter harvesting csv\n",
    "    # make sure there are pucks (and puck_types)\n",
    "    puck_names = [{\"name\": name} for name in [\"testpuck\", \"FGZ001\", \"FGZ002\"]]\n",
    "    for puck_name in puck_names:\n",
    "        get_or_create(session, PuckType, **puck_name)\n",
    "\n",
    "    harvesting_df = pandas.read_csv(\"../test/harvesting.csv\", skiprows=8)\n",
    "    harvesting_df.rename(columns={\";PlateType\": \"PlateType\"}, inplace=True)\n",
    "\n",
    "    puck_data = [\n",
    "        {\"puck_type\": session.query(PuckType).filter_by(name=k).one()}\n",
    "        for k in harvesting_df[\"DestinationName\"].dropna().unique()\n",
    "    ]\n",
    "    for puck in puck_data:\n",
    "        get_or_create(session, Puck, **puck)\n",
    "\n",
    "    for index, row in harvesting_df.iterrows():\n",
    "        # this entry will be populated if something happened at the well,\n",
    "        # successful or not\n",
    "        if pandas.notna(row[\"Comment\"]):\n",
    "            shifter_well_pos = (\n",
    "                f\"{row['PlateRow']}{row['PlateColumn']}{row['PositionSubWell']}\"\n",
    "            )\n",
    "            xtal_well = get_xtal_well(session, row[\"PlateID\"], shifter_well_pos)\n",
    "            xtal_well.harvest_comment = row[\"Comment\"]\n",
    "            xtal_well.harvesting_status = True\n",
    "            xtal_well.time_arrival = pandas.to_datetime(\n",
    "                row[\"TimeArrival\"], format=\"%d/%m/%Y %H:%M:%S\"\n",
    "            )\n",
    "            echo_transfer = (\n",
    "                session.query(EchoTransfer)\n",
    "                .filter(EchoTransfer.to_well_id == xtal_well.uid)\n",
    "                .first()\n",
    "            )\n",
    "            if echo_transfer:\n",
    "                library_well = echo_transfer.from_well\n",
    "                library_well.used = True\n",
    "\n",
    "            # this entry will only be populated if the pin made it into the puck\n",
    "            if pandas.notna(row[\"DestinationLocation\"]):\n",
    "                transfer_xtal_to_pin(session, xtal_well, row[\"DestinationName\"], \n",
    "                                    row[\"DestinationLocation\"], row[\"TimeDeparture\"])"
   ]
  },
  {
   "cell_type": "code",
   "execution_count": null,
   "metadata": {},
   "outputs": [],
   "source": []
  },
  {
   "cell_type": "code",
   "execution_count": 9,
   "metadata": {},
   "outputs": [
    {
     "data": {
      "text/plain": [
       "0"
      ]
     },
     "execution_count": 9,
     "metadata": {},
     "output_type": "execute_result"
    }
   ],
   "source": [
    "len(session.query(XtalWell).filter(\n",
    "            XtalWell.plate.has(name=\"pmtest\"),\n",
    "            #XtalWell.well_type.has(name=shifter_well_pos),\n",
    "        ).all())"
   ]
  },
  {
   "cell_type": "code",
   "execution_count": 10,
   "metadata": {},
   "outputs": [
    {
     "data": {
      "text/plain": [
       "<models.xtal_plate.XtalWellType at 0x7fb8f2488d90>"
      ]
     },
     "execution_count": 10,
     "metadata": {},
     "output_type": "execute_result"
    }
   ],
   "source": [
    "session.query(XtalWellType).filter_by(name=\"A1a\").one()"
   ]
  },
  {
   "cell_type": "code",
   "execution_count": 11,
   "metadata": {},
   "outputs": [],
   "source": [
    "session.commit()"
   ]
  },
  {
   "cell_type": "code",
   "execution_count": null,
   "metadata": {},
   "outputs": [],
   "source": []
  }
 ],
 "metadata": {
  "kernelspec": {
   "display_name": "Python 3 (ipykernel)",
   "language": "python",
   "name": "python3"
  },
  "language_info": {
   "codemirror_mode": {
    "name": "ipython",
    "version": 3
   },
   "file_extension": ".py",
   "mimetype": "text/x-python",
   "name": "python",
   "nbconvert_exporter": "python",
   "pygments_lexer": "ipython3",
   "version": "3.10.6"
  }
 },
 "nbformat": 4,
 "nbformat_minor": 4
}
