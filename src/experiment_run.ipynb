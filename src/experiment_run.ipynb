{
 "cells": [
  {
   "cell_type": "code",
   "execution_count": 1,
   "metadata": {},
   "outputs": [],
   "source": [
    "# Imaging plate with shifter -> Generates shifter csv file (imaging.csv 1 plate)\n",
    "# Setup echo transfer -> Generates echo protocol csv (write_echo_csv())\n",
    "    # Dropdown to select active library plate\n",
    "    # Dropdown Select the crystal plate \n",
    "    # Specify how many wells in the crystal plate is to be used -> Deterimines how many library wells are used\n",
    "# Select Batch number from dropdown. Click button to add timestamp to echo-transfer\n",
    "# Create imaging.csv based on selected batch\n",
    "# Harvesting step in shifter generates harvesting.csv and that gets consumed by script\n",
    "# Generate LSDC puck excel file to be imported - sampleName in LSDC excel file would be \"target-UID\" target = Project.target\n",
    "\n",
    "# Query by crystal ID get puck name, \n",
    "# Ligand identity from the library well\n",
    "# Transfer volume and delta time until frozen "
   ]
  },
  {
   "cell_type": "code",
   "execution_count": 2,
   "metadata": {
    "tags": []
   },
   "outputs": [],
   "source": [
    "# Imports\n",
    "import sys\n",
    "sys.path.append('/nsls2/software/mx/daq/platemate/src')\n",
    "\n",
    "from pathlib import Path\n",
    "import pandas as pd\n",
    "from sqlalchemy import create_engine, func\n",
    "from sqlalchemy.orm import sessionmaker\n",
    "import ipywidgets as widgets\n",
    "from models import XtalPlate, XtalPlateType, LibraryPlate, PuckType\n",
    "from ui import EchoTransferWidget, XtalPlateCreatorWidget, BatchTimeStampWidget, IngestHarvestingDataWidget, GenerateHarvestDataWidget, LSDCDataGeneratorWidget\n",
    "from utils.create import add_xtal_wells_to_plate\n",
    "from utils.read import get_or_create\n",
    "\n",
    "LAB_DATA_ROOT = Path(\"/nsls2/data/amx/proposals/commissioning/pass-311989/labdata_test_20240518\")\n",
    "engine = create_engine(f\"sqlite:///{LAB_DATA_ROOT}/database/test.db\")\n",
    "Session = sessionmaker(bind=engine)\n",
    "session = Session()"
   ]
  },
  {
   "cell_type": "markdown",
   "metadata": {},
   "source": [
    "### Create an instance of a Xtal plate by: \n",
    " 1. Choosing the plate type from the dropdown menu\n",
    " 2. Upload the imaging csv obtained from the plate shifter"
   ]
  },
  {
   "cell_type": "code",
   "execution_count": 11,
   "metadata": {},
   "outputs": [
    {
     "data": {
      "application/vnd.jupyter.widget-view+json": {
       "model_id": "4ccea47eedfb4276b979f5ff9041a888",
       "version_major": 2,
       "version_minor": 0
      },
      "text/plain": [
       "VBox(children=(HBox(children=(Dropdown(description='Xtal plate type:', options=('SwissCI-MRC-2d', 'SwissCI-MRC…"
      ]
     },
     "execution_count": 11,
     "metadata": {},
     "output_type": "execute_result"
    }
   ],
   "source": [
    "imaging_path = LAB_DATA_ROOT / Path(\"imaging\")\n",
    "xtal_plate_creator = XtalPlateCreatorWidget(session=session, data_directory=imaging_path)\n",
    "xtal_plate_creator.ui"
   ]
  },
  {
   "cell_type": "markdown",
   "metadata": {},
   "source": [
    "### Create a new echo transfer\n",
    "1. Select a library plate\n",
    "2. Select a Xtal plate\n",
    "3. Using slider, choose the number of xtal wells to be used\n",
    "4. Change output file name (Optional)\n",
    "5. Click \"Generate Echo Transfer\"\n",
    "\n",
    "### Regenerate an existing batch\n",
    "1. Choose the batch number in text box\n",
    "2. Change output file name (Optional)\n",
    "3. Click \"Generate Echo Transfer\"\n",
    "\n",
    "**Note:** Library plate, Xtal plate and Xtal well slider values are ignored when generating an existing batch"
   ]
  },
  {
   "cell_type": "markdown",
   "metadata": {},
   "source": [
    "## Show a list of all library plates in the db\n"
   ]
  },
  {
   "cell_type": "code",
   "execution_count": 19,
   "metadata": {},
   "outputs": [
    {
     "data": {
      "application/vnd.jupyter.widget-view+json": {
       "model_id": "92711f9c67054d4cbc76fe05345d47b7",
       "version_major": 2,
       "version_minor": 0
      },
      "text/plain": [
       "VBox(children=(HBox(children=(IntText(value=25, description='Vol. (nL):', layout=Layout(width='200px')),)), HB…"
      ]
     },
     "execution_count": 19,
     "metadata": {},
     "output_type": "execute_result"
    }
   ],
   "source": [
    "echo_path = LAB_DATA_ROOT / Path(\"echo_protocols\")\n",
    "echo_transfer = EchoTransferWidget(session=session, output_folder=echo_path)\n",
    "echo_transfer.ui"
   ]
  },
  {
   "cell_type": "markdown",
   "metadata": {},
   "source": [
    "### Add time stamp to a batch"
   ]
  },
  {
   "cell_type": "code",
   "execution_count": 15,
   "metadata": {},
   "outputs": [
    {
     "data": {
      "application/vnd.jupyter.widget-view+json": {
       "model_id": "4f6fcb0865914635b0e9812f2a3543f0",
       "version_major": 2,
       "version_minor": 0
      },
      "text/plain": [
       "VBox(children=(HBox(children=(Dropdown(description='Batch:', options=('1 Batch 1',), style=DescriptionStyle(de…"
      ]
     },
     "execution_count": 15,
     "metadata": {},
     "output_type": "execute_result"
    }
   ],
   "source": [
    "batch_timestamp = BatchTimeStampWidget(session=session)\n",
    "batch_timestamp.ui"
   ]
  },
  {
   "cell_type": "markdown",
   "metadata": {},
   "source": [
    "### Generate harvest file from batch\n"
   ]
  },
  {
   "cell_type": "code",
   "execution_count": 18,
   "metadata": {},
   "outputs": [
    {
     "data": {
      "application/vnd.jupyter.widget-view+json": {
       "model_id": "64e247c0af3a4f3cb9226d0f3f0ac0aa",
       "version_major": 2,
       "version_minor": 0
      },
      "text/plain": [
       "VBox(children=(HBox(children=(Dropdown(description='Batch:', options=('1 Batch 1',), style=DescriptionStyle(de…"
      ]
     },
     "execution_count": 18,
     "metadata": {},
     "output_type": "execute_result"
    }
   ],
   "source": [
    "harvest_path = LAB_DATA_ROOT / Path(\"harvesting\")\n",
    "generate_harvest_data = GenerateHarvestDataWidget(session=session, output_folder=harvest_path)\n",
    "generate_harvest_data.ui"
   ]
  },
  {
   "cell_type": "markdown",
   "metadata": {},
   "source": [
    "### Ingest harvest file"
   ]
  },
  {
   "cell_type": "code",
   "execution_count": 20,
   "metadata": {},
   "outputs": [
    {
     "data": {
      "application/vnd.jupyter.widget-view+json": {
       "model_id": "b133af386ffd4453a97079796fc8d426",
       "version_major": 2,
       "version_minor": 0
      },
      "text/plain": [
       "VBox(children=(HBox(children=(FileUpload(value=(), accept='.csv', description='Upload harvest file:', layout=L…"
      ]
     },
     "execution_count": 20,
     "metadata": {},
     "output_type": "execute_result"
    }
   ],
   "source": [
    "ingest_harvest_data = IngestHarvestingDataWidget(session, data_directory=harvest_path)\n",
    "ingest_harvest_data.ui"
   ]
  },
  {
   "cell_type": "code",
   "execution_count": 21,
   "metadata": {},
   "outputs": [],
   "source": [
    "session.commit()"
   ]
  },
  {
   "cell_type": "markdown",
   "metadata": {},
   "source": [
    "### LSDC puck data generator\n"
   ]
  },
  {
   "cell_type": "code",
   "execution_count": 22,
   "metadata": {},
   "outputs": [
    {
     "data": {
      "application/vnd.jupyter.widget-view+json": {
       "model_id": "f627c349d1504981a9e584dbe44941ad",
       "version_major": 2,
       "version_minor": 0
      },
      "text/plain": [
       "VBox(children=(HBox(children=(Dropdown(description='Batch:', options=('1 Batch 1',), style=DescriptionStyle(de…"
      ]
     },
     "execution_count": 22,
     "metadata": {},
     "output_type": "execute_result"
    }
   ],
   "source": [
    "puck_path = LAB_DATA_ROOT / Path(\"pucks\")\n",
    "lsdc_data_generator = LSDCDataGeneratorWidget(session=session, output_folder=puck_path)\n",
    "lsdc_data_generator.ui"
   ]
  },
  {
   "cell_type": "code",
   "execution_count": null,
   "metadata": {},
   "outputs": [],
   "source": []
  }
 ],
 "metadata": {
  "kernelspec": {
   "display_name": "Python 3 (ipykernel)",
   "language": "python",
   "name": "python3"
  },
  "language_info": {
   "codemirror_mode": {
    "name": "ipython",
    "version": 3
   },
   "file_extension": ".py",
   "mimetype": "text/x-python",
   "name": "python",
   "nbconvert_exporter": "python",
   "pygments_lexer": "ipython3",
   "version": "3.11.6"
  }
 },
 "nbformat": 4,
 "nbformat_minor": 4
}
