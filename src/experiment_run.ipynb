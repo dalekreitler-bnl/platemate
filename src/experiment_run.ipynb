{
 "cells": [
  {
   "cell_type": "code",
   "execution_count": 1,
   "metadata": {},
   "outputs": [],
   "source": [
    "# Imaging plate with shifter -> Generates shifter csv file (imaging.csv 1 plate)\n",
    "# Setup echo transfer -> Generates echo protocol csv (write_echo_csv())\n",
    "    # Dropdown to select active library plate\n",
    "    # Dropdown Select the crystal plate \n",
    "    # Specify how many wells in the crystal plate is to be used -> Deterimines how many library wells are used\n",
    "# Select Batch number from dropdown. Click button to add timestamp to echo-transfer\n",
    "# Create imaging.csv based on selected batch\n",
    "# Harvesting step in shifter generates harvesting.csv and that gets consumed by script\n",
    "# Generate LSDC puck excel file to be imported - sampleName in LSDC excel file would be \"target-UID\" target = Project.target\n",
    "\n",
    "# Query by crystal ID get puck name, \n",
    "# Ligand identity from the library well\n",
    "# Transfer volume and delta time until frozen "
   ]
  },
  {
   "cell_type": "code",
   "execution_count": 1,
   "metadata": {},
   "outputs": [
    {
     "name": "stdout",
     "output_type": "stream",
     "text": [
      "Intel MKL WARNING: Support of Intel(R) Streaming SIMD Extensions 4.2 (Intel(R) SSE4.2) enabled only processors has been deprecated. Intel oneAPI Math Kernel Library 2025.0 will require Intel(R) Advanced Vector Extensions (Intel(R) AVX) instructions.\n",
      "Intel MKL WARNING: Support of Intel(R) Streaming SIMD Extensions 4.2 (Intel(R) SSE4.2) enabled only processors has been deprecated. Intel oneAPI Math Kernel Library 2025.0 will require Intel(R) Advanced Vector Extensions (Intel(R) AVX) instructions.\n"
     ]
    }
   ],
   "source": [
    "# Imports\n",
    "import pandas as pd\n",
    "from sqlalchemy import create_engine, func\n",
    "from sqlalchemy.orm import sessionmaker\n",
    "import ipywidgets as widgets\n",
    "from models import XtalPlate, XtalPlateType, LibraryPlate, PuckType\n",
    "from ui import EchoTransferWidget, XtalPlateCreatorWidget, BatchTimeStampWidget, IngestHarvestingDataWidget, GenerateHarvestDataWidget, LSDCDataGeneratorWidget\n",
    "from utils.create import add_xtal_wells_to_plate\n",
    "from utils.read import get_or_create\n",
    "\n",
    "engine = create_engine(\"sqlite:///../test/test.db\")\n",
    "Session = sessionmaker(bind=engine)\n",
    "session = Session()"
   ]
  },
  {
   "cell_type": "code",
   "execution_count": 2,
   "metadata": {},
   "outputs": [],
   "source": [
    "from pathlib import Path\n",
    "output_path = Path(\"../test/output\")\n",
    "output_path.mkdir(parents=True, exist_ok=True)"
   ]
  },
  {
   "cell_type": "markdown",
   "metadata": {},
   "source": [
    "### Create an instance of a Xtal plate by: \n",
    " 1. Choosing the plate type from the dropdown menu\n",
    " 2. Upload the imaging csv obtained from the plate shifter"
   ]
  },
  {
   "cell_type": "code",
   "execution_count": 3,
   "metadata": {},
   "outputs": [
    {
     "data": {
      "application/vnd.jupyter.widget-view+json": {
       "model_id": "d95548b61a6b422e9317d7debfba693c",
       "version_major": 2,
       "version_minor": 0
      },
      "text/plain": [
       "VBox(children=(HBox(children=(Dropdown(description='Xtal plate type:', options=('SwissCI-MRC-2d',), style=Desc…"
      ]
     },
     "execution_count": 3,
     "metadata": {},
     "output_type": "execute_result"
    }
   ],
   "source": [
    "xtal_plate_creator = XtalPlateCreatorWidget(session=session)\n",
    "xtal_plate_creator.ui"
   ]
  },
  {
   "cell_type": "markdown",
   "metadata": {},
   "source": [
    "### Create a new echo transfer\n",
    "1. Select a library plate\n",
    "2. Select a Xtal plate\n",
    "3. Using slider, choose the number of xtal wells to be used\n",
    "4. Change output file name (Optional)\n",
    "5. Click \"Generate Echo Transfer\"\n",
    "\n",
    "### Regenerate an existing batch\n",
    "1. Choose the batch number in text box\n",
    "2. Change output file name (Optional)\n",
    "3. Click \"Generate Echo Transfer\"\n",
    "\n",
    "**Note:** Library plate, Xtal plate and Xtal well slider values are ignored when generating an existing batch"
   ]
  },
  {
   "cell_type": "markdown",
   "metadata": {},
   "source": [
    "## Show a list of all library plates in the db\n"
   ]
  },
  {
   "cell_type": "code",
   "execution_count": 3,
   "metadata": {},
   "outputs": [
    {
     "data": {
      "application/vnd.jupyter.widget-view+json": {
       "model_id": "c89ef73bbbc84009b68912661f7acbf3",
       "version_major": 2,
       "version_minor": 0
      },
      "text/plain": [
       "VBox(children=(HBox(children=(Dropdown(description='Library Plate:', options=('DSI-poised', 'lc-fds-III', 'sol…"
      ]
     },
     "execution_count": 3,
     "metadata": {},
     "output_type": "execute_result"
    }
   ],
   "source": [
    "echo_transfer = EchoTransferWidget(session=session, output_folder=output_path)\n",
    "echo_transfer.ui"
   ]
  },
  {
   "cell_type": "markdown",
   "metadata": {},
   "source": [
    "### Add time stamp to a batch"
   ]
  },
  {
   "cell_type": "code",
   "execution_count": 5,
   "metadata": {},
   "outputs": [
    {
     "data": {
      "application/vnd.jupyter.widget-view+json": {
       "model_id": "2c942df67260418695fc43491e3b7988",
       "version_major": 2,
       "version_minor": 0
      },
      "text/plain": [
       "VBox(children=(HBox(children=(Dropdown(description='Batch:', options=('1 Batch 1', '2 Batch 2', '3 Batch 3', '…"
      ]
     },
     "execution_count": 5,
     "metadata": {},
     "output_type": "execute_result"
    }
   ],
   "source": [
    "batch_timestamp = BatchTimeStampWidget(session=session)\n",
    "batch_timestamp.ui"
   ]
  },
  {
   "cell_type": "code",
   "execution_count": 5,
   "metadata": {},
   "outputs": [],
   "source": [
    "# prepare to ingest shifter harvesting csv\n",
    "# make sure there are pucks (and puck_types)\n",
    "puck_names = [{\"name\": name} for name in [\"testpuck\", \"FGZ001\", \"FGZ002\"]]\n",
    "for puck_name in puck_names:\n",
    "    get_or_create(session, PuckType, **puck_name)"
   ]
  },
  {
   "cell_type": "markdown",
   "metadata": {},
   "source": [
    "### Generate harvest file from batch\n"
   ]
  },
  {
   "cell_type": "code",
   "execution_count": 6,
   "metadata": {},
   "outputs": [
    {
     "data": {
      "application/vnd.jupyter.widget-view+json": {
       "model_id": "c05571f4e93e4eeead21769f71c436dc",
       "version_major": 2,
       "version_minor": 0
      },
      "text/plain": [
       "VBox(children=(HBox(children=(Dropdown(description='Batch:', options=('1 Batch 1', '2 Batch 2', '3 Batch 3', '…"
      ]
     },
     "execution_count": 6,
     "metadata": {},
     "output_type": "execute_result"
    }
   ],
   "source": [
    "generate_harvest_data = GenerateHarvestDataWidget(session=session, output_folder=output_path)\n",
    "generate_harvest_data.ui"
   ]
  },
  {
   "cell_type": "markdown",
   "metadata": {},
   "source": [
    "### Ingest harvest file"
   ]
  },
  {
   "cell_type": "code",
   "execution_count": 3,
   "metadata": {},
   "outputs": [
    {
     "data": {
      "application/vnd.jupyter.widget-view+json": {
       "model_id": "57e35f40d65a41d1a0afb9a72de8ea56",
       "version_major": 2,
       "version_minor": 0
      },
      "text/plain": [
       "VBox(children=(HBox(children=(FileUpload(value=(), accept='.csv', description='Upload harvest file:', layout=L…"
      ]
     },
     "execution_count": 3,
     "metadata": {},
     "output_type": "execute_result"
    }
   ],
   "source": [
    "ingest_harvest_data = IngestHarvestingDataWidget(session)\n",
    "ingest_harvest_data.ui"
   ]
  },
  {
   "cell_type": "markdown",
   "metadata": {},
   "source": [
    "### LSDC puck data generator\n"
   ]
  },
  {
   "cell_type": "code",
   "execution_count": 4,
   "metadata": {},
   "outputs": [
    {
     "data": {
      "application/vnd.jupyter.widget-view+json": {
       "model_id": "a68272ce7d7049dcaaab92e15cccd49c",
       "version_major": 2,
       "version_minor": 0
      },
      "text/plain": [
       "VBox(children=(HBox(children=(Dropdown(description='Batch:', options=('1 Batch 1', '2 Batch 2', '3 Batch 3', '…"
      ]
     },
     "execution_count": 4,
     "metadata": {},
     "output_type": "execute_result"
    }
   ],
   "source": [
    "lsdc_data_generator = LSDCDataGeneratorWidget(session=session)\n",
    "lsdc_data_generator.ui"
   ]
  },
  {
   "cell_type": "code",
   "execution_count": 5,
   "metadata": {},
   "outputs": [
    {
     "data": {
      "text/plain": [
       "'\\nfrom eralchemy import render_er\\nfrom models import Base\\nrender_er(\"sqlite:///../test/test2.db\", \\'erd_from_sqlite.png\\')\\n'"
      ]
     },
     "execution_count": 5,
     "metadata": {},
     "output_type": "execute_result"
    }
   ],
   "source": [
    "\"\"\"\n",
    "from eralchemy import render_er\n",
    "from models import Base\n",
    "render_er(\"sqlite:///../test/test2.db\", 'erd_from_sqlite.png')\n",
    "\"\"\""
   ]
  },
  {
   "cell_type": "code",
   "execution_count": null,
   "metadata": {},
   "outputs": [],
   "source": []
  }
 ],
 "metadata": {
  "kernelspec": {
   "display_name": "Python 3 (ipykernel)",
   "language": "python",
   "name": "python3"
  },
  "language_info": {
   "codemirror_mode": {
    "name": "ipython",
    "version": 3
   },
   "file_extension": ".py",
   "mimetype": "text/x-python",
   "name": "python",
   "nbconvert_exporter": "python",
   "pygments_lexer": "ipython3",
   "version": "3.10.13"
  }
 },
 "nbformat": 4,
 "nbformat_minor": 4
}
