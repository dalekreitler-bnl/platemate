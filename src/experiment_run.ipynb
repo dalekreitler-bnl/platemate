{
 "cells": [
  {
   "cell_type": "code",
   "execution_count": 1,
   "metadata": {},
   "outputs": [],
   "source": [
    "# Imaging plate with shifter -> Generates shifter csv file (imaging.csv 1 plate)\n",
    "# Setup echo transfer -> Generates echo protocol csv (write_echo_csv())\n",
    "    # Dropdown to select active library plate\n",
    "    # Dropdown Select the crystal plate \n",
    "    # Specify how many wells in the crystal plate is to be used -> Deterimines how many library wells are used\n",
    "# Select Batch number from dropdown. Click button to add timestamp to echo-transfer\n",
    "# Create imaging.csv based on selected batch\n",
    "# Harvesting step in shifter generates harvesting.csv and that gets consumed by script\n",
    "# Generate LSDC puck excel file to be imported - sampleName in LSDC excel file would be \"target-UID\" target = Project.target\n",
    "\n",
    "# Query by crystal ID get puck name, \n",
    "# Ligand identity from the library well\n",
    "# Transfer volume and delta time until frozen "
   ]
  },
  {
   "cell_type": "code",
   "execution_count": 4,
   "metadata": {},
   "outputs": [],
   "source": [
    "# Imports\n",
    "import pandas as pd\n",
    "from sqlalchemy import create_engine, func\n",
    "from sqlalchemy.orm import sessionmaker\n",
    "import ipywidgets as widgets\n",
    "from models import XtalPlate, XtalPlateType, LibraryPlate, PuckType\n",
    "from ui import EchoTransferWidget, XtalPlateCreatorWidget, BatchTimeStampWidget, IngestHarvestingDataWidget, GenerateHarvestDataWidget, LSDCDataGeneratorWidget\n",
    "from utils.create import add_xtal_wells_to_plate\n",
    "from utils.read import get_or_create\n",
    "\n",
    "engine = create_engine(\"sqlite:///../test/test.db\")\n",
    "Session = sessionmaker(bind=engine)\n",
    "session = Session()"
   ]
  },
  {
   "cell_type": "code",
   "execution_count": 5,
   "metadata": {},
   "outputs": [],
   "source": [
    "from pathlib import Path\n",
    "LAB_DATA_ROOT = Path(\"../lab_data\")\n",
    "LAB_DATA_ROOT.mkdir(parents=True, exist_ok=True)"
   ]
  },
  {
   "cell_type": "markdown",
   "metadata": {},
   "source": [
    "### Create an instance of a Xtal plate by: \n",
    " 1. Choosing the plate type from the dropdown menu\n",
    " 2. Upload the imaging csv obtained from the plate shifter"
   ]
  },
  {
   "cell_type": "code",
   "execution_count": 6,
   "metadata": {},
   "outputs": [
    {
     "data": {
      "application/vnd.jupyter.widget-view+json": {
       "model_id": "2acebf389d1a4f4bbba4679408dde81f",
       "version_major": 2,
       "version_minor": 0
      },
      "text/plain": [
       "VBox(children=(HBox(children=(Dropdown(description='Xtal plate type:', options=('SwissCI-MRC-2d', 'SwissCI-MRC…"
      ]
     },
     "execution_count": 6,
     "metadata": {},
     "output_type": "execute_result"
    }
   ],
   "source": [
    "xtal_plate_creator = XtalPlateCreatorWidget(session=session)\n",
    "xtal_plate_creator.ui"
   ]
  },
  {
   "cell_type": "markdown",
   "metadata": {},
   "source": [
    "### Create a new echo transfer\n",
    "1. Select a library plate\n",
    "2. Select a Xtal plate\n",
    "3. Using slider, choose the number of xtal wells to be used\n",
    "4. Change output file name (Optional)\n",
    "5. Click \"Generate Echo Transfer\"\n",
    "\n",
    "### Regenerate an existing batch\n",
    "1. Choose the batch number in text box\n",
    "2. Change output file name (Optional)\n",
    "3. Click \"Generate Echo Transfer\"\n",
    "\n",
    "**Note:** Library plate, Xtal plate and Xtal well slider values are ignored when generating an existing batch"
   ]
  },
  {
   "cell_type": "markdown",
   "metadata": {},
   "source": [
    "## Show a list of all library plates in the db\n"
   ]
  },
  {
   "cell_type": "code",
   "execution_count": 4,
   "metadata": {},
   "outputs": [
    {
     "data": {
      "application/vnd.jupyter.widget-view+json": {
       "model_id": "4a27f66a12b84a61969d3cf8da1c7907",
       "version_major": 2,
       "version_minor": 0
      },
      "text/plain": [
       "VBox(children=(HBox(children=(IntText(value=25, description='Vol. (nL):', layout=Layout(width='200px')),)), HB…"
      ]
     },
     "execution_count": 4,
     "metadata": {},
     "output_type": "execute_result"
    }
   ],
   "source": [
    "echo_path = LAB_DATA_ROOT / Path(\"/echo_protocols\")\n",
    "echo_transfer = EchoTransferWidget(session=session, output_folder=echo_path)\n",
    "echo_transfer.ui"
   ]
  },
  {
   "cell_type": "markdown",
   "metadata": {},
   "source": [
    "### Add time stamp to a batch"
   ]
  },
  {
   "cell_type": "code",
   "execution_count": 5,
   "metadata": {},
   "outputs": [
    {
     "data": {
      "application/vnd.jupyter.widget-view+json": {
       "model_id": "c6d8dd3aad5b4bfd9202eaa83a245dd2",
       "version_major": 2,
       "version_minor": 0
      },
      "text/plain": [
       "VBox(children=(HBox(children=(Dropdown(description='Batch:', options=('1 Batch 1',), style=DescriptionStyle(de…"
      ]
     },
     "execution_count": 5,
     "metadata": {},
     "output_type": "execute_result"
    }
   ],
   "source": [
    "batch_timestamp = BatchTimeStampWidget(session=session)\n",
    "batch_timestamp.ui"
   ]
  },
  {
   "cell_type": "markdown",
   "metadata": {},
   "source": [
    "### Generate harvest file from batch\n"
   ]
  },
  {
   "cell_type": "code",
   "execution_count": 6,
   "metadata": {},
   "outputs": [
    {
     "data": {
      "application/vnd.jupyter.widget-view+json": {
       "model_id": "33fa2c9b66ce448fac5335bec146f84f",
       "version_major": 2,
       "version_minor": 0
      },
      "text/plain": [
       "VBox(children=(HBox(children=(Dropdown(description='Batch:', options=('1 Batch 1',), style=DescriptionStyle(de…"
      ]
     },
     "execution_count": 6,
     "metadata": {},
     "output_type": "execute_result"
    }
   ],
   "source": [
    "harvest_path = LAB_DATA_ROOT / Path(\"/harvesting\")\n",
    "generate_harvest_data = GenerateHarvestDataWidget(session=session, output_folder=harvesting)\n",
    "generate_harvest_data.ui"
   ]
  },
  {
   "cell_type": "markdown",
   "metadata": {},
   "source": [
    "### Ingest harvest file"
   ]
  },
  {
   "cell_type": "code",
   "execution_count": 7,
   "metadata": {},
   "outputs": [
    {
     "data": {
      "application/vnd.jupyter.widget-view+json": {
       "model_id": "9e542edddec24d75b0a2f0f65289bc0f",
       "version_major": 2,
       "version_minor": 0
      },
      "text/plain": [
       "VBox(children=(HBox(children=(FileUpload(value=(), accept='.csv', description='Upload harvest file:', layout=L…"
      ]
     },
     "execution_count": 7,
     "metadata": {},
     "output_type": "execute_result"
    }
   ],
   "source": [
    "ingest_harvest_data = IngestHarvestingDataWidget(session)\n",
    "ingest_harvest_data.ui"
   ]
  },
  {
   "cell_type": "code",
   "execution_count": 8,
   "metadata": {},
   "outputs": [],
   "source": [
    "session.commit()"
   ]
  },
  {
   "cell_type": "markdown",
   "metadata": {},
   "source": [
    "### LSDC puck data generator\n"
   ]
  },
  {
   "cell_type": "code",
   "execution_count": 7,
   "metadata": {},
   "outputs": [
    {
     "data": {
      "application/vnd.jupyter.widget-view+json": {
       "model_id": "6113506279ea446ebb9a1a2d14587355",
       "version_major": 2,
       "version_minor": 0
      },
      "text/plain": [
       "VBox(children=(HBox(children=(Dropdown(description='Batch:', options=(), style=DescriptionStyle(description_wi…"
      ]
     },
     "execution_count": 7,
     "metadata": {},
     "output_type": "execute_result"
    }
   ],
   "source": [
    "puck_path = LAB_DATA_ROOT / Path(\"/pucks\")\n",
    "lsdc_data_generator = LSDCDataGeneratorWidget(session=session, output_folder=puck_path)\n",
    "lsdc_data_generator.ui"
   ]
  }
 ],
 "metadata": {
  "kernelspec": {
   "display_name": "Python 3 (ipykernel)",
   "language": "python",
   "name": "python3"
  },
  "language_info": {
   "codemirror_mode": {
    "name": "ipython",
    "version": 3
   },
   "file_extension": ".py",
   "mimetype": "text/x-python",
   "name": "python",
   "nbconvert_exporter": "python",
   "pygments_lexer": "ipython3",
   "version": "3.9.15"
  }
 },
 "nbformat": 4,
 "nbformat_minor": 4
}
