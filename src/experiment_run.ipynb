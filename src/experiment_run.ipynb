{
 "cells": [
  {
   "cell_type": "code",
   "execution_count": 1,
   "metadata": {},
   "outputs": [],
   "source": [
    "# Imaging plate with shifter -> Generates shifter csv file (imaging.csv 1 plate)\n",
    "# Setup echo transfer -> Generates echo protocol csv (write_echo_csv())\n",
    "    # Dropdown to select active library plate\n",
    "    # Dropdown Select the crystal plate \n",
    "    # Specify how many wells in the crystal plate is to be used -> Deterimines how many library wells are used\n",
    "# Select Batch number from dropdown. Click button to add timestamp to echo-transfer\n",
    "# Harvesting step in shifter generates harvesting.csv and that gets consumed by script\n",
    "# Generate LSDC puck excel file to be imported\n",
    "\n",
    "# Query by crystal ID get puck name, \n",
    "# Ligand identity from the library well\n",
    "# Transfer volume and delta time until frozen "
   ]
  },
  {
   "cell_type": "code",
   "execution_count": 1,
   "metadata": {},
   "outputs": [],
   "source": [
    "# Imports\n",
    "import pandas as pd\n",
    "from sqlalchemy import create_engine, func\n",
    "from sqlalchemy.orm import sessionmaker\n",
    "import ipywidgets as widgets\n",
    "from models import XtalPlate, XtalPlateType, LibraryPlate, PuckType\n",
    "from ui.echo_transfer import EchoTransferWidget\n",
    "from ui.xtal_plate import XtalPlateCreator\n",
    "from ui.batch_timestamp import BatchTimeStamp\n",
    "from ui.ingest_harvesting import IngestHarvestingData\n",
    "from utils.create import add_xtal_wells_to_plate\n",
    "from utils.read import get_or_create\n",
    "\n",
    "engine = create_engine(\"sqlite:///../test/test2.db\")\n",
    "Session = sessionmaker(bind=engine)\n",
    "session = Session()"
   ]
  },
  {
   "cell_type": "markdown",
   "metadata": {},
   "source": [
    "### Create an instance of a Xtal plate by: \n",
    " 1. Choosing the plate type from the dropdown menu\n",
    " 2. Upload the imaging csv obtained from the plate shifter"
   ]
  },
  {
   "cell_type": "code",
   "execution_count": 2,
   "metadata": {},
   "outputs": [
    {
     "data": {
      "application/vnd.jupyter.widget-view+json": {
       "model_id": "fef4c5259bb34ddcb7e12a757fd82d74",
       "version_major": 2,
       "version_minor": 0
      },
      "text/plain": [
       "VBox(children=(HBox(children=(Dropdown(description='Xtal plate type:', options=('SwissCI-MRC-2d',), style=Desc…"
      ]
     },
     "execution_count": 2,
     "metadata": {},
     "output_type": "execute_result"
    }
   ],
   "source": [
    "xtal_plate_creator = XtalPlateCreator(session=session)\n",
    "xtal_plate_creator.ui"
   ]
  },
  {
   "cell_type": "markdown",
   "metadata": {},
   "source": [
    "### Create a new echo transfer\n",
    "1. Select a library plate\n",
    "2. Select a Xtal plate\n",
    "3. Using slider, choose the number of xtal wells to be used\n",
    "4. Change output file name (Optional)\n",
    "5. Click \"Generate Echo Transfer\"\n",
    "\n",
    "### Regenerate an existing batch\n",
    "1. Choose the batch number in text box\n",
    "2. Change output file name (Optional)\n",
    "3. Click \"Generate Echo Transfer\"\n",
    "\n",
    "**Note:** Library plate, Xtal plate and Xtal well slider values are ignored when generating an existing batch"
   ]
  },
  {
   "cell_type": "code",
   "execution_count": 3,
   "metadata": {},
   "outputs": [
    {
     "data": {
      "application/vnd.jupyter.widget-view+json": {
       "model_id": "a5740847c3e34eaf9b28012f2589531e",
       "version_major": 2,
       "version_minor": 0
      },
      "text/plain": [
       "VBox(children=(HBox(children=(Dropdown(description='Library Plate:', options=('DSI-poised',), style=Descriptio…"
      ]
     },
     "execution_count": 3,
     "metadata": {},
     "output_type": "execute_result"
    }
   ],
   "source": [
    "# Show a list of all library plates in the db\n",
    "echo_transfer = EchoTransferWidget(session=session)\n",
    "echo_transfer.ui"
   ]
  },
  {
   "cell_type": "markdown",
   "metadata": {},
   "source": [
    "### Add time stamp to a batch"
   ]
  },
  {
   "cell_type": "code",
   "execution_count": 2,
   "metadata": {},
   "outputs": [
    {
     "data": {
      "application/vnd.jupyter.widget-view+json": {
       "model_id": "90603354081d4a9dadab5a9022308191",
       "version_major": 2,
       "version_minor": 0
      },
      "text/plain": [
       "VBox(children=(HBox(children=(Dropdown(description='Batch:', options=('1 Test batch',), style=DescriptionStyle…"
      ]
     },
     "execution_count": 2,
     "metadata": {},
     "output_type": "execute_result"
    }
   ],
   "source": [
    "batch_timestamp = BatchTimeStamp(session=session)\n",
    "batch_timestamp.ui"
   ]
  },
  {
   "cell_type": "code",
   "execution_count": 4,
   "metadata": {},
   "outputs": [],
   "source": [
    "# prepare to ingest shifter harvesting csv\n",
    "# make sure there are pucks (and puck_types)\n",
    "puck_names = [{\"name\": name} for name in [\"testpuck\", \"FGZ001\", \"FGZ002\"]]\n",
    "for puck_name in puck_names:\n",
    "    get_or_create(session, PuckType, **puck_name)"
   ]
  },
  {
   "cell_type": "code",
   "execution_count": 2,
   "metadata": {},
   "outputs": [
    {
     "data": {
      "application/vnd.jupyter.widget-view+json": {
       "model_id": "5b8025a72a0541f986ef46e6315101e2",
       "version_major": 2,
       "version_minor": 0
      },
      "text/plain": [
       "VBox(children=(HBox(children=(FileUpload(value=(), accept='.csv', description='Upload harvest file:', layout=L…"
      ]
     },
     "execution_count": 2,
     "metadata": {},
     "output_type": "execute_result"
    }
   ],
   "source": [
    "ingest_harvest_data = IngestHarvestingData(session)\n",
    "ingest_harvest_data.ui"
   ]
  },
  {
   "cell_type": "code",
   "execution_count": null,
   "metadata": {},
   "outputs": [],
   "source": []
  }
 ],
 "metadata": {
  "kernelspec": {
   "display_name": "Python 3 (ipykernel)",
   "language": "python",
   "name": "python3"
  },
  "language_info": {
   "codemirror_mode": {
    "name": "ipython",
    "version": 3
   },
   "file_extension": ".py",
   "mimetype": "text/x-python",
   "name": "python",
   "nbconvert_exporter": "python",
   "pygments_lexer": "ipython3",
   "version": "3.10.6"
  }
 },
 "nbformat": 4,
 "nbformat_minor": 4
}
